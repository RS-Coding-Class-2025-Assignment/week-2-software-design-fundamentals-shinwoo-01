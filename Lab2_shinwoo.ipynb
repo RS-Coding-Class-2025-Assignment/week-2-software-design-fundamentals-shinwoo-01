{
 "cells": [
  {
   "cell_type": "code",
   "execution_count": 3,
   "metadata": {},
   "outputs": [
    {
     "name": "stdout",
     "output_type": "stream",
     "text": [
      "You have submitted your name!\n",
      "You have submitted your name!\n",
      "You have submitted your name!\n",
      "You have submitted your name!\n",
      "You have submitted your name!\n",
      "You have submitted your name!\n",
      "You have submitted your name!\n",
      "You have submitted your name!\n"
     ]
    }
   ],
   "source": [
    "import tkinter as tk\n",
    "from tkinter import ttk\n",
    "\n",
    "def example_function():\n",
    "    print(\"You have submitted your name!\")\n",
    "\n",
    "root = tk.Tk()\n",
    "root.title(\"Tkinter Example\")\n",
    "\n",
    "# Label\n",
    "ttk.Label(root, text=\"Enter your name:\").grid(row=0, column=0, padx=5, pady=5, sticky=\"W\")\n",
    "\n",
    "# Entry field\n",
    "name_entry = ttk.Entry(root, width=30)\n",
    "name_entry.grid(row=0, column=1, padx=5, pady=5)\n",
    "\n",
    "# Button\n",
    "ttk.Button(root, text=\"Submit\", command=example_function).grid(row=0, column=2, padx=5, pady=5)\n",
    "\n",
    "root.mainloop()\n"
   ]
  },
  {
   "cell_type": "code",
   "execution_count": null,
   "metadata": {},
   "outputs": [],
   "source": []
  }
 ],
 "metadata": {
  "kernelspec": {
   "display_name": "Python 3",
   "language": "python",
   "name": "python3"
  },
  "language_info": {
   "codemirror_mode": {
    "name": "ipython",
    "version": 3
   },
   "file_extension": ".py",
   "mimetype": "text/x-python",
   "name": "python",
   "nbconvert_exporter": "python",
   "pygments_lexer": "ipython3",
   "version": "3.11.9"
  }
 },
 "nbformat": 4,
 "nbformat_minor": 2
}
